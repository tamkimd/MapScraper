{
 "cells": [
  {
   "cell_type": "code",
   "execution_count": 6,
   "metadata": {},
   "outputs": [
    {
     "name": "stdout",
     "output_type": "stream",
     "text": [
      "distance from GO!(Big C) ,Đà Nẵng  to Galaxy Cinema, Đà Nẵng  : 3.5 km\n"
     ]
    }
   ],
   "source": [
    "from mapcraper import DistanceScraper\n",
    "\n",
    "place_a = \"GO!(Big C) ,Đà Nẵng \"\n",
    "place_b = \"Galaxy Cinema, Đà Nẵng \"\n",
    "\n",
    "bigc_galaxy = DistanceScraper(place_a=place_a, place_b=place_b)\n",
    "distance = bigc_galaxy.extract_distance()\n",
    "\n",
    "print(f\"distance from {place_a} to {place_b} : {distance}\")"
   ]
  },
  {
   "cell_type": "code",
   "execution_count": 8,
   "metadata": {},
   "outputs": [
    {
     "name": "stdout",
     "output_type": "stream",
     "text": [
      "{'Location': 'Duy Tan University, 254 Nguyễn Văn Linh, Thạc Gián, Thanh Khê, Đà Nẵng 550000', 'Reviews': '563 reviews', 'Star Rating': 4.1}\n",
      "{'Location': 'Duy Tân University, 3 Quang Trung, Hải Châu 1, Hải Châu, Đà Nẵng 550000', 'Reviews': '266 reviews', 'Star Rating': 4.1}\n"
     ]
    }
   ],
   "source": [
    "from mapcraper import PlaceScraper\n",
    "\n",
    "search_term = \"Trường Đại học duy tân , đà nẵng\"\n",
    "places = PlaceScraper(search_term).extract_places()\n",
    "\n",
    "for place in places:\n",
    "    print(place)"
   ]
  }
 ],
 "metadata": {
  "kernelspec": {
   "display_name": "Python 3",
   "language": "python",
   "name": "python3"
  },
  "language_info": {
   "codemirror_mode": {
    "name": "ipython",
    "version": 3
   },
   "file_extension": ".py",
   "mimetype": "text/x-python",
   "name": "python",
   "nbconvert_exporter": "python",
   "pygments_lexer": "ipython3",
   "version": "3.10.2"
  },
  "orig_nbformat": 4
 },
 "nbformat": 4,
 "nbformat_minor": 2
}
